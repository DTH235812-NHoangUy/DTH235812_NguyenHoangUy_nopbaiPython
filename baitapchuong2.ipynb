{
 "cells": [
  {
   "cell_type": "code",
   "execution_count": 7,
   "id": "c96121e3",
   "metadata": {},
   "outputs": [
    {
     "name": "stdout",
     "output_type": "stream",
     "text": [
      "Chu vi = 25.132741228718345\n",
      "Diện tích= 16.0\n"
     ]
    }
   ],
   "source": [
    "#cau1\n",
    "import math\n",
    "try:\n",
    " r=float(input(\"Mời bạn nhập bán kính hình tròn:\"))\n",
    " cv=2*math.pi*r\n",
    " dt=r**2\n",
    " print(\"Chu vi =\",cv)\n",
    " print(\"Diện tích=\",dt)\n",
    "except:\n",
    " print(\"Lỗi rồi!\")\n"
   ]
  },
  {
   "cell_type": "code",
   "execution_count": 8,
   "id": "4f41c3ab",
   "metadata": {},
   "outputs": [
    {
     "name": "stdout",
     "output_type": "stream",
     "text": [
      "0 : 0 : 5\n"
     ]
    }
   ],
   "source": [
    "#cau2\n",
    "t=int(input(\"Nhập số giây:\"))\n",
    "hour=(t//3600)%24\n",
    "minute=(t%3600)//60\n",
    "second=(t%3600)%60\n",
    "print(hour,\":\",minute,\":\",second)"
   ]
  },
  {
   "cell_type": "code",
   "execution_count": 9,
   "id": "6d8aa256",
   "metadata": {},
   "outputs": [
    {
     "name": "stdout",
     "output_type": "stream",
     "text": [
      "Điểm trung bình= 7.333333333333333\n",
      "Điểm trung bình= 7.33\n"
     ]
    }
   ],
   "source": [
    "toan=float(input(\"Nhập điểm Toán:\"))\n",
    "ly=float(input(\"Nhập điểm lý:\"))\n",
    "hoa=float(input(\"Nhập điểm hóa:\"))\n",
    "dtb=(toan+ly+hoa)/3\n",
    "print(\"Điểm trung bình=\",dtb)\n",
    "print(\"Điểm trung bình=\",round(dtb,2))"
   ]
  },
  {
   "cell_type": "code",
   "execution_count": 10,
   "id": "a8b73de7",
   "metadata": {},
   "outputs": [
    {
     "name": "stdout",
     "output_type": "stream",
     "text": [
      "Chương trình tính điểm trung bình\n",
      "Điểm toán= 7.0\n",
      "Điểm lý= 8.0\n",
      "Điểm hóa= 9.0\n",
      "Điểm trung bình= 8.0\n",
      "Điểm làm tròn= 8.0\n"
     ]
    }
   ],
   "source": [
    "print(\"Chương trình tính điểm trung bình\")\n",
    "# Nhập 3 điểm, cho phép dấu phẩy hoặc khoảng trắng làm phân cách\n",
    "parts = input(\"Nhập điểm toán, lý, hóa (ví dụ: 7,8,9 hoặc 7 8 9): \").replace(',', ' ').split()\n",
    "if len(parts) != 3:\n",
    "    raise ValueError(\"Vui lòng nhập 3 giá trị cho toán, lý, hóa.\")\n",
    "toan, ly, hoa = map(float, parts)\n",
    "print(\"Điểm toán=\",toan)\n",
    "print(\"Điểm lý=\",ly)\n",
    "print(\"Điểm hóa=\",hoa)\n",
    "dtb=(toan+ly+hoa)/3\n",
    "print(\"Điểm trung bình=\",dtb)\n",
    "print(\"Điểm làm tròn=\",round(dtb,2))"
   ]
  },
  {
   "cell_type": "code",
   "execution_count": null,
   "id": "06008651",
   "metadata": {},
   "outputs": [],
   "source": []
  }
 ],
 "metadata": {
  "kernelspec": {
   "display_name": "Python 3",
   "language": "python",
   "name": "python3"
  },
  "language_info": {
   "codemirror_mode": {
    "name": "ipython",
    "version": 3
   },
   "file_extension": ".py",
   "mimetype": "text/x-python",
   "name": "python",
   "nbconvert_exporter": "python",
   "pygments_lexer": "ipython3",
   "version": "3.14.0"
  }
 },
 "nbformat": 4,
 "nbformat_minor": 5
}
