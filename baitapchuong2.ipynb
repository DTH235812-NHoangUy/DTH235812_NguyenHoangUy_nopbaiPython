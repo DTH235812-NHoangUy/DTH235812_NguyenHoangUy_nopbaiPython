{
 "cells": [
  {
   "cell_type": "code",
   "execution_count": 1,
   "id": "c96121e3",
   "metadata": {},
   "outputs": [
    {
     "name": "stdout",
     "output_type": "stream",
     "text": [
      "hello world\n",
      "nguyen hoang uy\n",
      "DTH235812\n"
     ]
    }
   ],
   "source": [
    "print(\"hello world\")\n",
    "print(\"nguyen hoang uy\")\n",
    "print(\"DTH235812\")"
   ]
  }
 ],
 "metadata": {
  "kernelspec": {
   "display_name": "Python 3",
   "language": "python",
   "name": "python3"
  },
  "language_info": {
   "codemirror_mode": {
    "name": "ipython",
    "version": 3
   },
   "file_extension": ".py",
   "mimetype": "text/x-python",
   "name": "python",
   "nbconvert_exporter": "python",
   "pygments_lexer": "ipython3",
   "version": "3.14.0"
  }
 },
 "nbformat": 4,
 "nbformat_minor": 5
}
